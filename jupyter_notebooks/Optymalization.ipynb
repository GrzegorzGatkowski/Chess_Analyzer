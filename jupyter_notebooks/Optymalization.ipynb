{
 "cells": [
  {
   "cell_type": "code",
   "execution_count": 17,
   "id": "be7cc939",
   "metadata": {},
   "outputs": [],
   "source": [
    "import requests\n",
    "import altair as alt\n",
    "import pandas as pd\n",
    "import matplotlib.pyplot as plt\n",
    "import seaborn as sns\n",
    "import streamlit as st\n",
    "import requests\n",
    "import numpy as np\n",
    "import datetime\n",
    "from chessdotcom import get_player_game_archives"
   ]
  },
  {
   "cell_type": "code",
   "execution_count": 18,
   "id": "8c7b76b8",
   "metadata": {},
   "outputs": [],
   "source": [
    "player = 'grzegorzgatkowski'\n",
    "data = ['https://api.chess.com/pub/player/grzegorzgatkowski/games/2022/10']\n",
    "response = requests.get(data[0]).json()['games']"
   ]
  },
  {
   "cell_type": "code",
   "execution_count": 19,
   "id": "1c521a3a",
   "metadata": {},
   "outputs": [],
   "source": [
    "def get_games(monthly_games):\n",
    "    all_months = pd.DataFrame()\n",
    "    for url in monthly_games:\n",
    "        if url[-7:-3]=='2022':\n",
    "                response = requests.get(url).json()['games']\n",
    "                month = pd.json_normalize(response)\n",
    "                all_months=pd.concat([all_months, month])\n",
    "    return all_months"
   ]
  },
  {
   "cell_type": "code",
   "execution_count": null,
   "id": "520238de",
   "metadata": {},
   "outputs": [],
   "source": [
    "%timeit b = get_games(data)"
   ]
  },
  {
   "cell_type": "code",
   "execution_count": null,
   "id": "3a684dc4",
   "metadata": {},
   "outputs": [],
   "source": [
    "def get_years_list(player_name):\n",
    "    try:\n",
    "        response = requests.get(f\"https://api.chess.com/pub/player/{player_name}/games/archives\")\n",
    "        response.raise_for_status()\n",
    "    except requests.RequestException:\n",
    "        return None\n",
    "\n",
    "    try:\n",
    "        year = response.json()[\"archives\"][0][-7:-3]\n",
    "        first_year = int(year)\n",
    "        list_year = [*range(first_year,2023)]\n",
    "        str_list = [str(x) for x in list_year]\n",
    "        \n",
    "        return str_list\n",
    "    except (KeyError, TypeError, ValueError):\n",
    "        return None   "
   ]
  },
  {
   "cell_type": "code",
   "execution_count": null,
   "id": "b566dd38",
   "metadata": {},
   "outputs": [],
   "source": [
    "a = get_years_list('grzegorzgatkowski')"
   ]
  },
  {
   "cell_type": "code",
   "execution_count": null,
   "id": "19afb860",
   "metadata": {},
   "outputs": [],
   "source": [
    "print(a)"
   ]
  },
  {
   "cell_type": "code",
   "execution_count": 26,
   "id": "b9f8c950",
   "metadata": {},
   "outputs": [],
   "source": [
    "all_months = get_games(data)\n",
    "all_months.end_time = pd.to_datetime(all_months.end_time,unit='s')\n",
    "all_months[player+\"'s rating\"] = np.where(all_months['white.username']==player,all_months['white.rating'],all_months['black.rating'])"
   ]
  },
  {
   "cell_type": "code",
   "execution_count": 27,
   "id": "fdc51ee5",
   "metadata": {},
   "outputs": [
    {
     "ename": "KeyError",
     "evalue": "'accuracies.white'",
     "output_type": "error",
     "traceback": [
      "\u001b[1;31m---------------------------------------------------------------------------\u001b[0m",
      "\u001b[1;31mKeyError\u001b[0m                                  Traceback (most recent call last)",
      "File \u001b[1;32m~\\AppData\\Local\\Programs\\Python\\Python310\\lib\\site-packages\\pandas\\core\\indexes\\base.py:3803\u001b[0m, in \u001b[0;36mIndex.get_loc\u001b[1;34m(self, key, method, tolerance)\u001b[0m\n\u001b[0;32m   3802\u001b[0m \u001b[38;5;28;01mtry\u001b[39;00m:\n\u001b[1;32m-> 3803\u001b[0m     \u001b[38;5;28;01mreturn\u001b[39;00m \u001b[38;5;28;43mself\u001b[39;49m\u001b[38;5;241;43m.\u001b[39;49m\u001b[43m_engine\u001b[49m\u001b[38;5;241;43m.\u001b[39;49m\u001b[43mget_loc\u001b[49m\u001b[43m(\u001b[49m\u001b[43mcasted_key\u001b[49m\u001b[43m)\u001b[49m\n\u001b[0;32m   3804\u001b[0m \u001b[38;5;28;01mexcept\u001b[39;00m \u001b[38;5;167;01mKeyError\u001b[39;00m \u001b[38;5;28;01mas\u001b[39;00m err:\n",
      "File \u001b[1;32m~\\AppData\\Local\\Programs\\Python\\Python310\\lib\\site-packages\\pandas\\_libs\\index.pyx:138\u001b[0m, in \u001b[0;36mpandas._libs.index.IndexEngine.get_loc\u001b[1;34m()\u001b[0m\n",
      "File \u001b[1;32m~\\AppData\\Local\\Programs\\Python\\Python310\\lib\\site-packages\\pandas\\_libs\\index.pyx:165\u001b[0m, in \u001b[0;36mpandas._libs.index.IndexEngine.get_loc\u001b[1;34m()\u001b[0m\n",
      "File \u001b[1;32mpandas\\_libs\\hashtable_class_helper.pxi:5745\u001b[0m, in \u001b[0;36mpandas._libs.hashtable.PyObjectHashTable.get_item\u001b[1;34m()\u001b[0m\n",
      "File \u001b[1;32mpandas\\_libs\\hashtable_class_helper.pxi:5753\u001b[0m, in \u001b[0;36mpandas._libs.hashtable.PyObjectHashTable.get_item\u001b[1;34m()\u001b[0m\n",
      "\u001b[1;31mKeyError\u001b[0m: 'accuracies.white'",
      "\nThe above exception was the direct cause of the following exception:\n",
      "\u001b[1;31mKeyError\u001b[0m                                  Traceback (most recent call last)",
      "Cell \u001b[1;32mIn [27], line 2\u001b[0m\n\u001b[0;32m      1\u001b[0m all_months[\u001b[38;5;124m\"\u001b[39m\u001b[38;5;124mopponent\u001b[39m\u001b[38;5;124m'\u001b[39m\u001b[38;5;124ms rating\u001b[39m\u001b[38;5;124m\"\u001b[39m] \u001b[38;5;241m=\u001b[39m np\u001b[38;5;241m.\u001b[39mwhere(all_months[\u001b[38;5;124m'\u001b[39m\u001b[38;5;124mwhite.username\u001b[39m\u001b[38;5;124m'\u001b[39m]\u001b[38;5;241m!=\u001b[39mplayer,all_months[\u001b[38;5;124m'\u001b[39m\u001b[38;5;124mwhite.rating\u001b[39m\u001b[38;5;124m'\u001b[39m],all_months[\u001b[38;5;124m'\u001b[39m\u001b[38;5;124mblack.rating\u001b[39m\u001b[38;5;124m'\u001b[39m])\n\u001b[1;32m----> 2\u001b[0m all_months[player\u001b[38;5;241m+\u001b[39m\u001b[38;5;124m\"\u001b[39m\u001b[38;5;124m accuracy\u001b[39m\u001b[38;5;124m\"\u001b[39m] \u001b[38;5;241m=\u001b[39m np\u001b[38;5;241m.\u001b[39mwhere(all_months[\u001b[38;5;124m'\u001b[39m\u001b[38;5;124mwhite.username\u001b[39m\u001b[38;5;124m'\u001b[39m]\u001b[38;5;241m==\u001b[39mplayer,\u001b[43mall_months\u001b[49m\u001b[43m[\u001b[49m\u001b[38;5;124;43m'\u001b[39;49m\u001b[38;5;124;43maccuracies.white\u001b[39;49m\u001b[38;5;124;43m'\u001b[39;49m\u001b[43m]\u001b[49m,all_months[\u001b[38;5;124m'\u001b[39m\u001b[38;5;124maccuracies.black\u001b[39m\u001b[38;5;124m'\u001b[39m])\n\u001b[0;32m      3\u001b[0m all_months[\u001b[38;5;124m\"\u001b[39m\u001b[38;5;124mOpponent accuracy\u001b[39m\u001b[38;5;124m\"\u001b[39m] \u001b[38;5;241m=\u001b[39m np\u001b[38;5;241m.\u001b[39mwhere(all_months[\u001b[38;5;124m'\u001b[39m\u001b[38;5;124mwhite.username\u001b[39m\u001b[38;5;124m'\u001b[39m]\u001b[38;5;241m!=\u001b[39mplayer,all_months[\u001b[38;5;124m'\u001b[39m\u001b[38;5;124maccuracies.white\u001b[39m\u001b[38;5;124m'\u001b[39m],all_months[\u001b[38;5;124m'\u001b[39m\u001b[38;5;124maccuracies.black\u001b[39m\u001b[38;5;124m'\u001b[39m])\n",
      "File \u001b[1;32m~\\AppData\\Local\\Programs\\Python\\Python310\\lib\\site-packages\\pandas\\core\\frame.py:3804\u001b[0m, in \u001b[0;36mDataFrame.__getitem__\u001b[1;34m(self, key)\u001b[0m\n\u001b[0;32m   3802\u001b[0m \u001b[38;5;28;01mif\u001b[39;00m \u001b[38;5;28mself\u001b[39m\u001b[38;5;241m.\u001b[39mcolumns\u001b[38;5;241m.\u001b[39mnlevels \u001b[38;5;241m>\u001b[39m \u001b[38;5;241m1\u001b[39m:\n\u001b[0;32m   3803\u001b[0m     \u001b[38;5;28;01mreturn\u001b[39;00m \u001b[38;5;28mself\u001b[39m\u001b[38;5;241m.\u001b[39m_getitem_multilevel(key)\n\u001b[1;32m-> 3804\u001b[0m indexer \u001b[38;5;241m=\u001b[39m \u001b[38;5;28;43mself\u001b[39;49m\u001b[38;5;241;43m.\u001b[39;49m\u001b[43mcolumns\u001b[49m\u001b[38;5;241;43m.\u001b[39;49m\u001b[43mget_loc\u001b[49m\u001b[43m(\u001b[49m\u001b[43mkey\u001b[49m\u001b[43m)\u001b[49m\n\u001b[0;32m   3805\u001b[0m \u001b[38;5;28;01mif\u001b[39;00m is_integer(indexer):\n\u001b[0;32m   3806\u001b[0m     indexer \u001b[38;5;241m=\u001b[39m [indexer]\n",
      "File \u001b[1;32m~\\AppData\\Local\\Programs\\Python\\Python310\\lib\\site-packages\\pandas\\core\\indexes\\base.py:3805\u001b[0m, in \u001b[0;36mIndex.get_loc\u001b[1;34m(self, key, method, tolerance)\u001b[0m\n\u001b[0;32m   3803\u001b[0m     \u001b[38;5;28;01mreturn\u001b[39;00m \u001b[38;5;28mself\u001b[39m\u001b[38;5;241m.\u001b[39m_engine\u001b[38;5;241m.\u001b[39mget_loc(casted_key)\n\u001b[0;32m   3804\u001b[0m \u001b[38;5;28;01mexcept\u001b[39;00m \u001b[38;5;167;01mKeyError\u001b[39;00m \u001b[38;5;28;01mas\u001b[39;00m err:\n\u001b[1;32m-> 3805\u001b[0m     \u001b[38;5;28;01mraise\u001b[39;00m \u001b[38;5;167;01mKeyError\u001b[39;00m(key) \u001b[38;5;28;01mfrom\u001b[39;00m \u001b[38;5;21;01merr\u001b[39;00m\n\u001b[0;32m   3806\u001b[0m \u001b[38;5;28;01mexcept\u001b[39;00m \u001b[38;5;167;01mTypeError\u001b[39;00m:\n\u001b[0;32m   3807\u001b[0m     \u001b[38;5;66;03m# If we have a listlike key, _check_indexing_error will raise\u001b[39;00m\n\u001b[0;32m   3808\u001b[0m     \u001b[38;5;66;03m#  InvalidIndexError. Otherwise we fall through and re-raise\u001b[39;00m\n\u001b[0;32m   3809\u001b[0m     \u001b[38;5;66;03m#  the TypeError.\u001b[39;00m\n\u001b[0;32m   3810\u001b[0m     \u001b[38;5;28mself\u001b[39m\u001b[38;5;241m.\u001b[39m_check_indexing_error(key)\n",
      "\u001b[1;31mKeyError\u001b[0m: 'accuracies.white'"
     ]
    }
   ],
   "source": [
    "all_months[\"opponent's rating\"] = np.where(all_months['white.username']!=player,all_months['white.rating'],all_months['black.rating'])\n",
    "all_months[player+\" accuracy\"] = np.where(all_months['white.username']==player,all_months['accuracies.white'],all_months['accuracies.black'])\n",
    "all_months[\"Opponent accuracy\"] = np.where(all_months['white.username']!=player,all_months['accuracies.white'],all_months['accuracies.black'])"
   ]
  },
  {
   "cell_type": "code",
   "execution_count": null,
   "id": "8e84d3c3",
   "metadata": {},
   "outputs": [],
   "source": [
    "all_months.head(1)"
   ]
  },
  {
   "cell_type": "code",
   "execution_count": null,
   "id": "0a820192",
   "metadata": {},
   "outputs": [],
   "source": [
    "\n",
    "df = all_months.groupby('time_class').resample('M', on = 'end_time')[[player+\"'s rating\"]].mean().reset_index()\n",
    "df_wide = df.pivot(\"end_time\", \"time_class\", player+\"'s rating\")\n",
    "\n",
    "df_wide = df_wide.fillna(method=\"ffill\")\n",
    "df_wide.head()"
   ]
  }
 ],
 "metadata": {
  "kernelspec": {
   "display_name": "Python 3 (ipykernel)",
   "language": "python",
   "name": "python3"
  },
  "language_info": {
   "codemirror_mode": {
    "name": "ipython",
    "version": 3
   },
   "file_extension": ".py",
   "mimetype": "text/x-python",
   "name": "python",
   "nbconvert_exporter": "python",
   "pygments_lexer": "ipython3",
   "version": "3.10.8"
  }
 },
 "nbformat": 4,
 "nbformat_minor": 5
}
