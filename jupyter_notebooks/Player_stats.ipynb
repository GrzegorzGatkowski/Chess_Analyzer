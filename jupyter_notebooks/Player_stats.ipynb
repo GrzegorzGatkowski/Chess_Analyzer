{
 "cells": [
  {
   "cell_type": "code",
   "execution_count": 13,
   "id": "88d1b487",
   "metadata": {},
   "outputs": [],
   "source": [
    "import requests\n",
    "import altair as alt\n",
    "import pandas as pd\n",
    "import matplotlib.pyplot as plt\n",
    "import seaborn as sns\n",
    "import streamlit as st\n",
    "import requests\n",
    "import numpy as np\n",
    "import datetime\n",
    "from chessdotcom import get_player_game_archives"
   ]
  },
  {
   "cell_type": "code",
   "execution_count": 14,
   "id": "d76bbe16",
   "metadata": {},
   "outputs": [],
   "source": [
    "player = 'grzegorzgatkowski'"
   ]
  },
  {
   "cell_type": "code",
   "execution_count": 15,
   "id": "698488dd",
   "metadata": {},
   "outputs": [],
   "source": [
    "data = get_player_game_archives(player).json['archives']"
   ]
  },
  {
   "cell_type": "code",
   "execution_count": 22,
   "id": "ce079827",
   "metadata": {},
   "outputs": [],
   "source": [
    "def get_games(monthly_games):\n",
    "    all_months = pd.DataFrame()\n",
    "    for url in monthly_games:\n",
    "        if url[-7:-3]=='2022':\n",
    "                response = requests.get(url).json()['games']\n",
    "                all_months=pd.concat([all_months, pd.json_normalize(response, max_level=1)])\n",
    "    return all_months\n"
   ]
  },
  {
   "cell_type": "code",
   "execution_count": 23,
   "id": "d2770073",
   "metadata": {},
   "outputs": [],
   "source": [
    "all_months = get_games(data)"
   ]
  },
  {
   "cell_type": "code",
   "execution_count": 24,
   "id": "8e33a849",
   "metadata": {},
   "outputs": [
    {
     "data": {
      "text/html": [
       "<div>\n",
       "<style scoped>\n",
       "    .dataframe tbody tr th:only-of-type {\n",
       "        vertical-align: middle;\n",
       "    }\n",
       "\n",
       "    .dataframe tbody tr th {\n",
       "        vertical-align: top;\n",
       "    }\n",
       "\n",
       "    .dataframe thead th {\n",
       "        text-align: right;\n",
       "    }\n",
       "</style>\n",
       "<table border=\"1\" class=\"dataframe\">\n",
       "  <thead>\n",
       "    <tr style=\"text-align: right;\">\n",
       "      <th></th>\n",
       "      <th>url</th>\n",
       "      <th>pgn</th>\n",
       "      <th>time_control</th>\n",
       "      <th>end_time</th>\n",
       "      <th>rated</th>\n",
       "      <th>tcn</th>\n",
       "      <th>uuid</th>\n",
       "      <th>initial_setup</th>\n",
       "      <th>fen</th>\n",
       "      <th>time_class</th>\n",
       "      <th>...</th>\n",
       "      <th>white.rating</th>\n",
       "      <th>white.result</th>\n",
       "      <th>white.@id</th>\n",
       "      <th>white.username</th>\n",
       "      <th>white.uuid</th>\n",
       "      <th>black.rating</th>\n",
       "      <th>black.result</th>\n",
       "      <th>black.@id</th>\n",
       "      <th>black.username</th>\n",
       "      <th>black.uuid</th>\n",
       "    </tr>\n",
       "  </thead>\n",
       "  <tbody>\n",
       "    <tr>\n",
       "      <th>0</th>\n",
       "      <td>https://www.chess.com/game/live/34854650199</td>\n",
       "      <td>[Event \"Live Chess\"]\\n[Site \"Chess.com\"]\\n[Dat...</td>\n",
       "      <td>600</td>\n",
       "      <td>1641116595</td>\n",
       "      <td>True</td>\n",
       "      <td>lB0SkA1Low!Tfo90gv8!egZRbsTCdkCsks0Tmu5QskWGjr...</td>\n",
       "      <td>9af32444-6bae-11ec-86bf-78ac4409ff3c</td>\n",
       "      <td>rnbqkbnr/pppppppp/8/8/8/8/PPPPPPPP/RNBQKBNR w ...</td>\n",
       "      <td>5r1k/2p3p1/2B5/pP4Kp/8/1P2R1PP/8/2b5 w - -</td>\n",
       "      <td>rapid</td>\n",
       "      <td>...</td>\n",
       "      <td>1884</td>\n",
       "      <td>resigned</td>\n",
       "      <td>https://api.chess.com/pub/player/jeroensch</td>\n",
       "      <td>jeroensch</td>\n",
       "      <td>46292e5a-36e0-11e5-801e-000000000000</td>\n",
       "      <td>1886</td>\n",
       "      <td>win</td>\n",
       "      <td>https://api.chess.com/pub/player/grzegorzgatko...</td>\n",
       "      <td>grzegorzgatkowski</td>\n",
       "      <td>ba860fa0-89e1-11e8-802e-000000000000</td>\n",
       "    </tr>\n",
       "    <tr>\n",
       "      <th>1</th>\n",
       "      <td>https://www.chess.com/game/live/34857652229</td>\n",
       "      <td>[Event \"Live Chess\"]\\n[Site \"Chess.com\"]\\n[Dat...</td>\n",
       "      <td>600</td>\n",
       "      <td>1641119617</td>\n",
       "      <td>True</td>\n",
       "      <td>mC0Kgv5QfH9RlBQBvBKBdB7TcuYIBsXPeg6XblRKstXQad...</td>\n",
       "      <td>897e487b-6bb5-11ec-86bf-78ac4409ff3c</td>\n",
       "      <td>rnbqkbnr/pppppppp/8/8/8/8/PPPPPPPP/RNBQKBNR w ...</td>\n",
       "      <td>2k5/p1b2ppp/8/pQp5/2N1q3/8/1P4PP/4K3 w - -</td>\n",
       "      <td>rapid</td>\n",
       "      <td>...</td>\n",
       "      <td>1886</td>\n",
       "      <td>repetition</td>\n",
       "      <td>https://api.chess.com/pub/player/grzegorzgatko...</td>\n",
       "      <td>grzegorzgatkowski</td>\n",
       "      <td>ba860fa0-89e1-11e8-802e-000000000000</td>\n",
       "      <td>1878</td>\n",
       "      <td>repetition</td>\n",
       "      <td>https://api.chess.com/pub/player/roma77astra</td>\n",
       "      <td>Roma77astra</td>\n",
       "      <td>92cc6040-ed12-11e5-8024-000000000000</td>\n",
       "    </tr>\n",
       "  </tbody>\n",
       "</table>\n",
       "<p>2 rows × 23 columns</p>\n",
       "</div>"
      ],
      "text/plain": [
       "                                           url  \\\n",
       "0  https://www.chess.com/game/live/34854650199   \n",
       "1  https://www.chess.com/game/live/34857652229   \n",
       "\n",
       "                                                 pgn time_control    end_time  \\\n",
       "0  [Event \"Live Chess\"]\\n[Site \"Chess.com\"]\\n[Dat...          600  1641116595   \n",
       "1  [Event \"Live Chess\"]\\n[Site \"Chess.com\"]\\n[Dat...          600  1641119617   \n",
       "\n",
       "   rated                                                tcn  \\\n",
       "0   True  lB0SkA1Low!Tfo90gv8!egZRbsTCdkCsks0Tmu5QskWGjr...   \n",
       "1   True  mC0Kgv5QfH9RlBQBvBKBdB7TcuYIBsXPeg6XblRKstXQad...   \n",
       "\n",
       "                                   uuid  \\\n",
       "0  9af32444-6bae-11ec-86bf-78ac4409ff3c   \n",
       "1  897e487b-6bb5-11ec-86bf-78ac4409ff3c   \n",
       "\n",
       "                                       initial_setup  \\\n",
       "0  rnbqkbnr/pppppppp/8/8/8/8/PPPPPPPP/RNBQKBNR w ...   \n",
       "1  rnbqkbnr/pppppppp/8/8/8/8/PPPPPPPP/RNBQKBNR w ...   \n",
       "\n",
       "                                          fen time_class  ... white.rating  \\\n",
       "0  5r1k/2p3p1/2B5/pP4Kp/8/1P2R1PP/8/2b5 w - -      rapid  ...         1884   \n",
       "1  2k5/p1b2ppp/8/pQp5/2N1q3/8/1P4PP/4K3 w - -      rapid  ...         1886   \n",
       "\n",
       "   white.result                                          white.@id  \\\n",
       "0      resigned         https://api.chess.com/pub/player/jeroensch   \n",
       "1    repetition  https://api.chess.com/pub/player/grzegorzgatko...   \n",
       "\n",
       "      white.username                            white.uuid black.rating  \\\n",
       "0          jeroensch  46292e5a-36e0-11e5-801e-000000000000         1886   \n",
       "1  grzegorzgatkowski  ba860fa0-89e1-11e8-802e-000000000000         1878   \n",
       "\n",
       "  black.result                                          black.@id  \\\n",
       "0          win  https://api.chess.com/pub/player/grzegorzgatko...   \n",
       "1   repetition       https://api.chess.com/pub/player/roma77astra   \n",
       "\n",
       "      black.username                            black.uuid  \n",
       "0  grzegorzgatkowski  ba860fa0-89e1-11e8-802e-000000000000  \n",
       "1        Roma77astra  92cc6040-ed12-11e5-8024-000000000000  \n",
       "\n",
       "[2 rows x 23 columns]"
      ]
     },
     "execution_count": 24,
     "metadata": {},
     "output_type": "execute_result"
    }
   ],
   "source": [
    "all_months.head(2)"
   ]
  },
  {
   "cell_type": "code",
   "execution_count": 25,
   "id": "53531b29",
   "metadata": {},
   "outputs": [],
   "source": [
    "all_months.drop([ 'url', 'pgn', 'tcn', 'uuid', 'initial_setup', 'fen', 'white.@id', 'white.uuid', 'black.@id', 'black.uuid'], axis = 1, inplace = True)"
   ]
  },
  {
   "cell_type": "code",
   "execution_count": 26,
   "id": "404889d2",
   "metadata": {},
   "outputs": [
    {
     "data": {
      "text/html": [
       "<div>\n",
       "<style scoped>\n",
       "    .dataframe tbody tr th:only-of-type {\n",
       "        vertical-align: middle;\n",
       "    }\n",
       "\n",
       "    .dataframe tbody tr th {\n",
       "        vertical-align: top;\n",
       "    }\n",
       "\n",
       "    .dataframe thead th {\n",
       "        text-align: right;\n",
       "    }\n",
       "</style>\n",
       "<table border=\"1\" class=\"dataframe\">\n",
       "  <thead>\n",
       "    <tr style=\"text-align: right;\">\n",
       "      <th></th>\n",
       "      <th>time_control</th>\n",
       "      <th>end_time</th>\n",
       "      <th>rated</th>\n",
       "      <th>time_class</th>\n",
       "      <th>rules</th>\n",
       "      <th>accuracies.white</th>\n",
       "      <th>accuracies.black</th>\n",
       "      <th>white.rating</th>\n",
       "      <th>white.result</th>\n",
       "      <th>white.username</th>\n",
       "      <th>black.rating</th>\n",
       "      <th>black.result</th>\n",
       "      <th>black.username</th>\n",
       "    </tr>\n",
       "  </thead>\n",
       "  <tbody>\n",
       "    <tr>\n",
       "      <th>0</th>\n",
       "      <td>600</td>\n",
       "      <td>2022-01-02 09:43:15</td>\n",
       "      <td>True</td>\n",
       "      <td>rapid</td>\n",
       "      <td>chess</td>\n",
       "      <td>84.16</td>\n",
       "      <td>88.29</td>\n",
       "      <td>1884</td>\n",
       "      <td>resigned</td>\n",
       "      <td>jeroensch</td>\n",
       "      <td>1886</td>\n",
       "      <td>win</td>\n",
       "      <td>grzegorzgatkowski</td>\n",
       "    </tr>\n",
       "    <tr>\n",
       "      <th>1</th>\n",
       "      <td>600</td>\n",
       "      <td>2022-01-02 10:33:37</td>\n",
       "      <td>True</td>\n",
       "      <td>rapid</td>\n",
       "      <td>chess</td>\n",
       "      <td>NaN</td>\n",
       "      <td>NaN</td>\n",
       "      <td>1886</td>\n",
       "      <td>repetition</td>\n",
       "      <td>grzegorzgatkowski</td>\n",
       "      <td>1878</td>\n",
       "      <td>repetition</td>\n",
       "      <td>Roma77astra</td>\n",
       "    </tr>\n",
       "    <tr>\n",
       "      <th>2</th>\n",
       "      <td>600</td>\n",
       "      <td>2022-01-02 10:47:23</td>\n",
       "      <td>True</td>\n",
       "      <td>rapid</td>\n",
       "      <td>chess</td>\n",
       "      <td>75.69</td>\n",
       "      <td>88.14</td>\n",
       "      <td>1812</td>\n",
       "      <td>resigned</td>\n",
       "      <td>nabilsamuel</td>\n",
       "      <td>1892</td>\n",
       "      <td>win</td>\n",
       "      <td>grzegorzgatkowski</td>\n",
       "    </tr>\n",
       "    <tr>\n",
       "      <th>3</th>\n",
       "      <td>600</td>\n",
       "      <td>2022-01-02 12:42:30</td>\n",
       "      <td>True</td>\n",
       "      <td>rapid</td>\n",
       "      <td>chess</td>\n",
       "      <td>88.35</td>\n",
       "      <td>71.81</td>\n",
       "      <td>1898</td>\n",
       "      <td>win</td>\n",
       "      <td>grzegorzgatkowski</td>\n",
       "      <td>1797</td>\n",
       "      <td>checkmated</td>\n",
       "      <td>mairambek1964</td>\n",
       "    </tr>\n",
       "    <tr>\n",
       "      <th>4</th>\n",
       "      <td>600</td>\n",
       "      <td>2022-01-02 18:13:01</td>\n",
       "      <td>True</td>\n",
       "      <td>rapid</td>\n",
       "      <td>chess</td>\n",
       "      <td>NaN</td>\n",
       "      <td>NaN</td>\n",
       "      <td>1877</td>\n",
       "      <td>resigned</td>\n",
       "      <td>yuvalsadeh</td>\n",
       "      <td>1906</td>\n",
       "      <td>win</td>\n",
       "      <td>grzegorzgatkowski</td>\n",
       "    </tr>\n",
       "  </tbody>\n",
       "</table>\n",
       "</div>"
      ],
      "text/plain": [
       "  time_control            end_time  rated time_class  rules  accuracies.white  \\\n",
       "0          600 2022-01-02 09:43:15   True      rapid  chess             84.16   \n",
       "1          600 2022-01-02 10:33:37   True      rapid  chess               NaN   \n",
       "2          600 2022-01-02 10:47:23   True      rapid  chess             75.69   \n",
       "3          600 2022-01-02 12:42:30   True      rapid  chess             88.35   \n",
       "4          600 2022-01-02 18:13:01   True      rapid  chess               NaN   \n",
       "\n",
       "   accuracies.black  white.rating white.result     white.username  \\\n",
       "0             88.29          1884     resigned          jeroensch   \n",
       "1               NaN          1886   repetition  grzegorzgatkowski   \n",
       "2             88.14          1812     resigned        nabilsamuel   \n",
       "3             71.81          1898          win  grzegorzgatkowski   \n",
       "4               NaN          1877     resigned         yuvalsadeh   \n",
       "\n",
       "   black.rating black.result     black.username  \n",
       "0          1886          win  grzegorzgatkowski  \n",
       "1          1878   repetition        Roma77astra  \n",
       "2          1892          win  grzegorzgatkowski  \n",
       "3          1797   checkmated      mairambek1964  \n",
       "4          1906          win  grzegorzgatkowski  "
      ]
     },
     "execution_count": 26,
     "metadata": {},
     "output_type": "execute_result"
    }
   ],
   "source": [
    "all_months.end_time = pd.to_datetime(all_months.end_time,unit='s')\n",
    "all_months.head()"
   ]
  },
  {
   "cell_type": "code",
   "execution_count": 27,
   "id": "feeb774b",
   "metadata": {},
   "outputs": [],
   "source": [
    "all_months[player+\"'s rating\"] = np.where(all_months['white.username']==player,all_months['white.rating'],all_months['black.rating'])"
   ]
  },
  {
   "cell_type": "code",
   "execution_count": 28,
   "id": "2ae48d78",
   "metadata": {},
   "outputs": [],
   "source": [
    "all_months[\"opponent's rating\"] = np.where(all_months['white.username']!=player,all_months['white.rating'],all_months['black.rating'])"
   ]
  },
  {
   "cell_type": "code",
   "execution_count": 29,
   "id": "693992a0",
   "metadata": {},
   "outputs": [],
   "source": [
    "all_months[player+\" accuracy\"] = np.where(all_months['white.username']==player,all_months['accuracies.white'],all_months['accuracies.black'])"
   ]
  },
  {
   "cell_type": "code",
   "execution_count": 30,
   "id": "b9290b93",
   "metadata": {},
   "outputs": [],
   "source": [
    "all_months[\"Opponent accuracy\"] = np.where(all_months['white.username']!=player,all_months['accuracies.white'],all_months['accuracies.black'])"
   ]
  },
  {
   "cell_type": "code",
   "execution_count": 31,
   "id": "3a3224f1",
   "metadata": {},
   "outputs": [
    {
     "data": {
      "text/html": [
       "<div>\n",
       "<style scoped>\n",
       "    .dataframe tbody tr th:only-of-type {\n",
       "        vertical-align: middle;\n",
       "    }\n",
       "\n",
       "    .dataframe tbody tr th {\n",
       "        vertical-align: top;\n",
       "    }\n",
       "\n",
       "    .dataframe thead th {\n",
       "        text-align: right;\n",
       "    }\n",
       "</style>\n",
       "<table border=\"1\" class=\"dataframe\">\n",
       "  <thead>\n",
       "    <tr style=\"text-align: right;\">\n",
       "      <th></th>\n",
       "      <th>time_control</th>\n",
       "      <th>end_time</th>\n",
       "      <th>rated</th>\n",
       "      <th>time_class</th>\n",
       "      <th>rules</th>\n",
       "      <th>accuracies.white</th>\n",
       "      <th>accuracies.black</th>\n",
       "      <th>white.rating</th>\n",
       "      <th>white.result</th>\n",
       "      <th>white.username</th>\n",
       "      <th>black.rating</th>\n",
       "      <th>black.result</th>\n",
       "      <th>black.username</th>\n",
       "      <th>grzegorzgatkowski's rating</th>\n",
       "      <th>opponent's rating</th>\n",
       "      <th>grzegorzgatkowski accuracy</th>\n",
       "      <th>Opponent accuracy</th>\n",
       "    </tr>\n",
       "  </thead>\n",
       "  <tbody>\n",
       "    <tr>\n",
       "      <th>0</th>\n",
       "      <td>600</td>\n",
       "      <td>2022-01-02 09:43:15</td>\n",
       "      <td>True</td>\n",
       "      <td>rapid</td>\n",
       "      <td>chess</td>\n",
       "      <td>84.16</td>\n",
       "      <td>88.29</td>\n",
       "      <td>1884</td>\n",
       "      <td>resigned</td>\n",
       "      <td>jeroensch</td>\n",
       "      <td>1886</td>\n",
       "      <td>win</td>\n",
       "      <td>grzegorzgatkowski</td>\n",
       "      <td>1886</td>\n",
       "      <td>1884</td>\n",
       "      <td>88.29</td>\n",
       "      <td>84.16</td>\n",
       "    </tr>\n",
       "    <tr>\n",
       "      <th>1</th>\n",
       "      <td>600</td>\n",
       "      <td>2022-01-02 10:33:37</td>\n",
       "      <td>True</td>\n",
       "      <td>rapid</td>\n",
       "      <td>chess</td>\n",
       "      <td>NaN</td>\n",
       "      <td>NaN</td>\n",
       "      <td>1886</td>\n",
       "      <td>repetition</td>\n",
       "      <td>grzegorzgatkowski</td>\n",
       "      <td>1878</td>\n",
       "      <td>repetition</td>\n",
       "      <td>Roma77astra</td>\n",
       "      <td>1886</td>\n",
       "      <td>1878</td>\n",
       "      <td>NaN</td>\n",
       "      <td>NaN</td>\n",
       "    </tr>\n",
       "    <tr>\n",
       "      <th>2</th>\n",
       "      <td>600</td>\n",
       "      <td>2022-01-02 10:47:23</td>\n",
       "      <td>True</td>\n",
       "      <td>rapid</td>\n",
       "      <td>chess</td>\n",
       "      <td>75.69</td>\n",
       "      <td>88.14</td>\n",
       "      <td>1812</td>\n",
       "      <td>resigned</td>\n",
       "      <td>nabilsamuel</td>\n",
       "      <td>1892</td>\n",
       "      <td>win</td>\n",
       "      <td>grzegorzgatkowski</td>\n",
       "      <td>1892</td>\n",
       "      <td>1812</td>\n",
       "      <td>88.14</td>\n",
       "      <td>75.69</td>\n",
       "    </tr>\n",
       "  </tbody>\n",
       "</table>\n",
       "</div>"
      ],
      "text/plain": [
       "  time_control            end_time  rated time_class  rules  accuracies.white  \\\n",
       "0          600 2022-01-02 09:43:15   True      rapid  chess             84.16   \n",
       "1          600 2022-01-02 10:33:37   True      rapid  chess               NaN   \n",
       "2          600 2022-01-02 10:47:23   True      rapid  chess             75.69   \n",
       "\n",
       "   accuracies.black  white.rating white.result     white.username  \\\n",
       "0             88.29          1884     resigned          jeroensch   \n",
       "1               NaN          1886   repetition  grzegorzgatkowski   \n",
       "2             88.14          1812     resigned        nabilsamuel   \n",
       "\n",
       "   black.rating black.result     black.username  grzegorzgatkowski's rating  \\\n",
       "0          1886          win  grzegorzgatkowski                        1886   \n",
       "1          1878   repetition        Roma77astra                        1886   \n",
       "2          1892          win  grzegorzgatkowski                        1892   \n",
       "\n",
       "   opponent's rating  grzegorzgatkowski accuracy  Opponent accuracy  \n",
       "0               1884                       88.29              84.16  \n",
       "1               1878                         NaN                NaN  \n",
       "2               1812                       88.14              75.69  "
      ]
     },
     "execution_count": 31,
     "metadata": {},
     "output_type": "execute_result"
    }
   ],
   "source": [
    "all_months.head(3)"
   ]
  },
  {
   "cell_type": "code",
   "execution_count": 32,
   "id": "520d5ec0",
   "metadata": {},
   "outputs": [
    {
     "data": {
      "text/html": [
       "<div>\n",
       "<style scoped>\n",
       "    .dataframe tbody tr th:only-of-type {\n",
       "        vertical-align: middle;\n",
       "    }\n",
       "\n",
       "    .dataframe tbody tr th {\n",
       "        vertical-align: top;\n",
       "    }\n",
       "\n",
       "    .dataframe thead th {\n",
       "        text-align: right;\n",
       "    }\n",
       "</style>\n",
       "<table border=\"1\" class=\"dataframe\">\n",
       "  <thead>\n",
       "    <tr style=\"text-align: right;\">\n",
       "      <th></th>\n",
       "      <th>accuracies.white</th>\n",
       "    </tr>\n",
       "    <tr>\n",
       "      <th>end_time</th>\n",
       "      <th></th>\n",
       "    </tr>\n",
       "  </thead>\n",
       "  <tbody>\n",
       "    <tr>\n",
       "      <th>2022-01-31</th>\n",
       "      <td>79.754167</td>\n",
       "    </tr>\n",
       "    <tr>\n",
       "      <th>2022-02-28</th>\n",
       "      <td>76.219796</td>\n",
       "    </tr>\n",
       "    <tr>\n",
       "      <th>2022-03-31</th>\n",
       "      <td>78.363611</td>\n",
       "    </tr>\n",
       "    <tr>\n",
       "      <th>2022-04-30</th>\n",
       "      <td>81.322088</td>\n",
       "    </tr>\n",
       "    <tr>\n",
       "      <th>2022-05-31</th>\n",
       "      <td>80.623333</td>\n",
       "    </tr>\n",
       "    <tr>\n",
       "      <th>2022-06-30</th>\n",
       "      <td>80.512791</td>\n",
       "    </tr>\n",
       "    <tr>\n",
       "      <th>2022-07-31</th>\n",
       "      <td>81.528182</td>\n",
       "    </tr>\n",
       "    <tr>\n",
       "      <th>2022-08-31</th>\n",
       "      <td>NaN</td>\n",
       "    </tr>\n",
       "    <tr>\n",
       "      <th>2022-09-30</th>\n",
       "      <td>76.875000</td>\n",
       "    </tr>\n",
       "    <tr>\n",
       "      <th>2022-10-31</th>\n",
       "      <td>NaN</td>\n",
       "    </tr>\n",
       "  </tbody>\n",
       "</table>\n",
       "</div>"
      ],
      "text/plain": [
       "            accuracies.white\n",
       "end_time                    \n",
       "2022-01-31         79.754167\n",
       "2022-02-28         76.219796\n",
       "2022-03-31         78.363611\n",
       "2022-04-30         81.322088\n",
       "2022-05-31         80.623333\n",
       "2022-06-30         80.512791\n",
       "2022-07-31         81.528182\n",
       "2022-08-31               NaN\n",
       "2022-09-30         76.875000\n",
       "2022-10-31               NaN"
      ]
     },
     "execution_count": 32,
     "metadata": {},
     "output_type": "execute_result"
    }
   ],
   "source": [
    "all_months.resample('M', on = 'end_time')[['accuracies.white']].mean()"
   ]
  },
  {
   "cell_type": "code",
   "execution_count": 37,
   "id": "3ad28dd1",
   "metadata": {},
   "outputs": [
    {
     "name": "stderr",
     "output_type": "stream",
     "text": [
      "C:\\Users\\user\\AppData\\Local\\Temp\\ipykernel_16664\\1489343179.py:3: FutureWarning: In a future version of pandas all arguments of DataFrame.pivot will be keyword-only.\n",
      "  df_wide = df.pivot(\"end_time\", \"time_class\", player+\"'s rating\")\n"
     ]
    },
    {
     "data": {
      "text/html": [
       "<div>\n",
       "<style scoped>\n",
       "    .dataframe tbody tr th:only-of-type {\n",
       "        vertical-align: middle;\n",
       "    }\n",
       "\n",
       "    .dataframe tbody tr th {\n",
       "        vertical-align: top;\n",
       "    }\n",
       "\n",
       "    .dataframe thead th {\n",
       "        text-align: right;\n",
       "    }\n",
       "</style>\n",
       "<table border=\"1\" class=\"dataframe\">\n",
       "  <thead>\n",
       "    <tr style=\"text-align: right;\">\n",
       "      <th>time_class</th>\n",
       "      <th>blitz</th>\n",
       "      <th>bullet</th>\n",
       "      <th>rapid</th>\n",
       "    </tr>\n",
       "    <tr>\n",
       "      <th>end_time</th>\n",
       "      <th></th>\n",
       "      <th></th>\n",
       "      <th></th>\n",
       "    </tr>\n",
       "  </thead>\n",
       "  <tbody>\n",
       "    <tr>\n",
       "      <th>2022-01-02</th>\n",
       "      <td>1933.352941</td>\n",
       "      <td>1316.555556</td>\n",
       "      <td>1893.6</td>\n",
       "    </tr>\n",
       "    <tr>\n",
       "      <th>2022-01-03</th>\n",
       "      <td>1933.352941</td>\n",
       "      <td>1316.555556</td>\n",
       "      <td>1911.0</td>\n",
       "    </tr>\n",
       "    <tr>\n",
       "      <th>2022-01-04</th>\n",
       "      <td>1891.774194</td>\n",
       "      <td>1316.555556</td>\n",
       "      <td>1911.0</td>\n",
       "    </tr>\n",
       "    <tr>\n",
       "      <th>2022-01-05</th>\n",
       "      <td>1856.000000</td>\n",
       "      <td>1316.555556</td>\n",
       "      <td>1911.0</td>\n",
       "    </tr>\n",
       "    <tr>\n",
       "      <th>2022-01-06</th>\n",
       "      <td>1856.000000</td>\n",
       "      <td>1316.555556</td>\n",
       "      <td>1902.6</td>\n",
       "    </tr>\n",
       "  </tbody>\n",
       "</table>\n",
       "</div>"
      ],
      "text/plain": [
       "time_class        blitz       bullet   rapid\n",
       "end_time                                    \n",
       "2022-01-02  1933.352941  1316.555556  1893.6\n",
       "2022-01-03  1933.352941  1316.555556  1911.0\n",
       "2022-01-04  1891.774194  1316.555556  1911.0\n",
       "2022-01-05  1856.000000  1316.555556  1911.0\n",
       "2022-01-06  1856.000000  1316.555556  1902.6"
      ]
     },
     "execution_count": 37,
     "metadata": {},
     "output_type": "execute_result"
    }
   ],
   "source": [
    "#all_months.resample('M', on = 'end_time')[player+\"'s rating\"].mean().plot()\n",
    "df = all_months.groupby('time_class').resample('D', on = 'end_time')[[player+\"'s rating\"]].mean().reset_index()\n",
    "df_wide = df.pivot(\"end_time\", \"time_class\", player+\"'s rating\")\n",
    "df_wide = df_wide.fillna(method=\"bfill\")\n",
    "df_wide = df_wide.fillna(method=\"ffill\")\n",
    "df_wide.head()\n"
   ]
  },
  {
   "cell_type": "code",
   "execution_count": 38,
   "id": "f487d658",
   "metadata": {},
   "outputs": [
    {
     "data": {
      "image/png": "[encoded data removed]",
      "text/plain": [
       "<Figure size 640x480 with 1 Axes>"
      ]
     },
     "metadata": {},
     "output_type": "display_data"
    }
   ],
   "source": [
    "fig = sns.lineplot(data=df_wide)"
   ]
  },
  {
   "cell_type": "code",
   "execution_count": null,
   "id": "215c2ab6",
   "metadata": {},
   "outputs": [],
   "source": [
    "ax , fig = plt.subplots(nrows=1, ncols=1)"
   ]
  },
  {
   "cell_type": "code",
   "execution_count": null,
   "id": "9f265046",
   "metadata": {},
   "outputs": [],
   "source": [
    "sns.histplot(data=all_months, x = player+\"'s rating'\")"
   ]
  },
  {
   "cell_type": "code",
   "execution_count": null,
   "id": "a412e62f",
   "metadata": {},
   "outputs": [],
   "source": [
    "all_months_rapid = all_months[all_months.time_class=='rapid']\n",
    "sns.histplot(data=all_months_rapid, x = \"opponent's rating'\", hue = 'time_class')"
   ]
  },
  {
   "cell_type": "code",
   "execution_count": null,
   "id": "b1170a3d",
   "metadata": {},
   "outputs": [],
   "source": [
    "all_months_blitz = all_months[all_months.time_class=='blitz']\n",
    "sns.histplot(data=all_months_blitz, x = \"opponent's rating'\", hue = 'time_class')"
   ]
  },
  {
   "cell_type": "code",
   "execution_count": null,
   "id": "48d44899",
   "metadata": {},
   "outputs": [],
   "source": []
  },
  {
   "cell_type": "code",
   "execution_count": null,
   "id": "38527c77",
   "metadata": {},
   "outputs": [],
   "source": [
    "sns.histplot(data=all_months, x = \"opponent's rating'\", hue = 'time_class')"
   ]
  },
  {
   "cell_type": "code",
   "execution_count": null,
   "id": "abc0e9be",
   "metadata": {},
   "outputs": [],
   "source": [
    "a = response = requests.get(data[0]).json()['games']"
   ]
  },
  {
   "cell_type": "code",
   "execution_count": null,
   "id": "98177468",
   "metadata": {},
   "outputs": [],
   "source": [
    "has_records = any(all_months['end_time'])"
   ]
  },
  {
   "cell_type": "code",
   "execution_count": null,
   "id": "32f28c48",
   "metadata": {},
   "outputs": [],
   "source": [
    "has_records"
   ]
  },
  {
   "cell_type": "code",
   "execution_count": null,
   "id": "98d2c502",
   "metadata": {},
   "outputs": [],
   "source": [
    "all_months.end_time.count()"
   ]
  },
  {
   "cell_type": "code",
   "execution_count": null,
   "id": "0ba6db03",
   "metadata": {},
   "outputs": [],
   "source": [
    "all_months.groupby('time_class').end_time.count()['blitz']"
   ]
  },
  {
   "cell_type": "code",
   "execution_count": null,
   "id": "527a701b",
   "metadata": {},
   "outputs": [],
   "source": [
    "all_months[all_months.time_class == 'daily'].shape[0]"
   ]
  },
  {
   "cell_type": "code",
   "execution_count": null,
   "id": "a3ea0815",
   "metadata": {},
   "outputs": [],
   "source": [
    "sns.countplot(data=all_months, y ='white.result')"
   ]
  },
  {
   "cell_type": "code",
   "execution_count": null,
   "id": "fb9a563f",
   "metadata": {},
   "outputs": [],
   "source": [
    "all_months['accuracies.white'].count()"
   ]
  },
  {
   "cell_type": "code",
   "execution_count": null,
   "id": "aca3174b",
   "metadata": {},
   "outputs": [],
   "source": [
    "sns.relplot(data=all_months, x = player+\" accuracy\", y = 'Opponent accuracy', col = 'time_class', kind = 'scatter')"
   ]
  },
  {
   "cell_type": "code",
   "execution_count": null,
   "id": "7bdcfd13",
   "metadata": {},
   "outputs": [],
   "source": [
    "print(data)"
   ]
  },
  {
   "cell_type": "code",
   "execution_count": null,
   "id": "3e702ded",
   "metadata": {},
   "outputs": [],
   "source": []
  }
 ],
 "metadata": {
  "kernelspec": {
   "display_name": "Python 3 (ipykernel)",
   "language": "python",
   "name": "python3"
  },
  "language_info": {
   "codemirror_mode": {
    "name": "ipython",
    "version": 3
   },
   "file_extension": ".py",
   "mimetype": "text/x-python",
   "name": "python",
   "nbconvert_exporter": "python",
   "pygments_lexer": "ipython3",
   "version": "3.10.8"
  }
 },
 "nbformat": 4,
 "nbformat_minor": 5
}
